{
  "nbformat": 4,
  "nbformat_minor": 0,
  "metadata": {
    "colab": {
      "provenance": []
    },
    "kernelspec": {
      "name": "python3",
      "display_name": "Python 3"
    },
    "language_info": {
      "name": "python"
    }
  },
  "cells": [
    {
      "cell_type": "markdown",
      "source": [
        "Definicion de clase Receta\n",
        "\n"
      ],
      "metadata": {
        "id": "6Z5AYO2nsQi6"
      }
    },
    {
      "cell_type": "code",
      "source": [
        "class receta:\n",
        "  def __init__(self, paciente, fecha_nac, doctor, colegiado, fecha_cita, hora_cita, tipo_consulta, tratamiento):\n",
        "    self.paciente = paciente\n",
        "    self.fecha_nac = fecha_nac\n",
        "    self.doctor = doctor\n",
        "    self.colegiado = colegiado\n",
        "    self.fecha_cita = fecha_cita\n",
        "    self.hora_cita = hora_cita\n",
        "    self.tipo_consulta = tipo_consulta\n",
        "    self.tratamiento = tratamiento"
      ],
      "metadata": {
        "id": "wvGSChPho5ix"
      },
      "execution_count": 249,
      "outputs": []
    },
    {
      "cell_type": "markdown",
      "source": [
        "Definicion de la clase Nodo"
      ],
      "metadata": {
        "id": "Bg096sipo4vv"
      }
    },
    {
      "cell_type": "code",
      "source": [
        "class nodo:\n",
        "  def __init__(self, receta=None, siguiente=None, anterior=None):\n",
        "    self.receta = receta\n",
        "    self.siguiente = siguiente\n",
        "    self.anterior = anterior"
      ],
      "metadata": {
        "id": "7Jp0pxgGpCNl"
      },
      "execution_count": 250,
      "outputs": []
    },
    {
      "cell_type": "markdown",
      "source": [
        "Definicion de la clase lista doblemente enlazada"
      ],
      "metadata": {
        "id": "VXzXgV29sWuL"
      }
    },
    {
      "cell_type": "code",
      "source": [
        "class lista_doble:\n",
        "  def __init__(self):\n",
        "    self.primero = None\n",
        "\n",
        "  def insertar(self,receta):\n",
        "    if self.primero is None:\n",
        "      self.primero = nodo(receta=receta)\n",
        "    else:\n",
        "      actual = nodo(receta=receta, siguiente=self.primero)\n",
        "      self.primero.anterior = actual \n",
        "      self.primero = actual #me faltaba esta linea\n",
        "\n",
        "  def recorrer(self):\n",
        "    if self.primero is None:\n",
        "      return\n",
        "    actual = self.primero \n",
        "    print(\"Paciente:\", actual.receta.paciente, \n",
        "            \"| Fecha de Nacimiento: \", actual.receta.fecha_nac, \n",
        "            \"| Doctor: \", actual.receta.doctor,\n",
        "            \"| Colegiado: \", actual.receta.colegiado,\n",
        "            \"| Fecha cita: \", actual.receta.fecha_cita,\n",
        "            \"| Hora cita: \", actual.receta.hora_cita,\n",
        "            \"| Consulta: \", actual.receta.tipo_consulta,\n",
        "            \"| Tratamiento: \", actual.receta.tratamiento)\n",
        "    \n",
        "    while actual.siguiente:\n",
        "      actual = actual.siguiente\n",
        "      print(\"Paciente:\", actual.receta.paciente, \n",
        "            \"| Fecha de Nacimiento: \", actual.receta.fecha_nac, \n",
        "            \"| Doctor: \", actual.receta.doctor,\n",
        "            \"| Colegiado: \", actual.receta.colegiado,\n",
        "            \"| Fecha cita: \", actual.receta.fecha_cita,\n",
        "            \"| Hora cita: \", actual.receta.hora_cita,\n",
        "            \"| Consulta: \", actual.receta.tipo_consulta,\n",
        "            \"| Tratamiento: \", actual.receta.tratamiento)\n",
        "      \n",
        "  def eliminar(self, colegiado, fecha_cita, hora_cita):\n",
        "      actual = self.primero\n",
        "      while actual:\n",
        "          if actual.receta.colegiado == colegiado and actual.receta.fecha_cita == fecha_cita and actual.receta.hora_cita == hora_cita:\n",
        "              if actual.anterior:\n",
        "                  if actual.siguiente:\n",
        "                      actual.anterior.siguiente = actual.siguiente\n",
        "                      actual.siguiente.anterior = actual.anterior\n",
        "                  else:\n",
        "                      actual.anterior.siguiente = None\n",
        "              else:\n",
        "                  if actual.siguiente:\n",
        "                      self.primero = actual.siguiente\n",
        "                      actual.siguiente.anterior = None\n",
        "                  else:\n",
        "                      self.primero = None\n",
        "              return True\n",
        "          else:\n",
        "              actual = actual.siguiente\n",
        "      return False\n",
        "\n",
        "  #Modificar a travez del nombre del paciente\n",
        "\n",
        "  def buscar(self, Name):\n",
        "    actual = self.primero\n",
        "    while actual:\n",
        "      if actual.receta.paciente == Name:\n",
        "        print(\"Encontrado en la lista de pacientes\")\n",
        "        return actual\n",
        "      actual = actual.siguiente\n",
        "    print(\"No se encontro al paciente en la lista\")\n",
        "    return None\n",
        "\n",
        "  def modificar(self, paciente, new_fecha):\n",
        "    nodo_modificar = self.buscar(paciente)\n",
        "    if nodo_modificar is not None:\n",
        "      nodo_modificar.receta.fecha_cita = new_fecha\n",
        "      print(\"La información del paciente ha sido actualizada.\")\n",
        "    else:\n",
        "      print(\"No se encontró al paciente en la lista.\")\n",
        "  "
      ],
      "metadata": {
        "id": "yOunvn0Xsc5J"
      },
      "execution_count": 251,
      "outputs": []
    },
    {
      "cell_type": "markdown",
      "source": [
        "Creacion de nodos receta"
      ],
      "metadata": {
        "id": "ipRdOdEkuJ9y"
      }
    },
    {
      "cell_type": "code",
      "source": [
        "r1 = receta(\"Gerson López\",\"03-10-1990\",\"Melvin Ortiz\", 20156, \"17-01-2023\", \"11:30\", \"Medicina general\", \"2 pildoras de acetaminofen cada 6 horas\")\n",
        "r2 = receta(\"Karen Gómez\", \"08-05-2000\", \"Jorge Merida\", 8567, \"31-01-2023\", \"09:00\", \"Medicina interna\", \"Tylenol de 20 ml cada 4 horas\")\n",
        "r3 = receta(\"Luis García\", \"17-09-1987\", \"Melvin Ortiz\", 20157, \"02-02-2023\", \"12:00\", \"Medicina general\", \"2 cucharadas de Pepto-Bismol cada hora hasta que la diarrea desaparezca\")"
      ],
      "metadata": {
        "id": "XLG4C9bouBxd"
      },
      "execution_count": 252,
      "outputs": []
    },
    {
      "cell_type": "markdown",
      "source": [
        "Inserción"
      ],
      "metadata": {
        "id": "O2DoIGmtuSjT"
      }
    },
    {
      "cell_type": "code",
      "source": [
        "lista_d = lista_doble()\n",
        "lista_d.insertar(r1)\n",
        "lista_d.insertar(r2)\n",
        "lista_d.insertar(r3)"
      ],
      "metadata": {
        "id": "1_VuXi5DuW1h"
      },
      "execution_count": 253,
      "outputs": []
    },
    {
      "cell_type": "markdown",
      "source": [
        "Recorrer la lista"
      ],
      "metadata": {
        "id": "FLNMe_tF0o2v"
      }
    },
    {
      "cell_type": "code",
      "source": [
        "lista_d.recorrer()"
      ],
      "metadata": {
        "colab": {
          "base_uri": "https://localhost:8080/"
        },
        "id": "pwrQNnNqxwLW",
        "outputId": "02de7787-dd71-436a-da72-2f8f4a62342b"
      },
      "execution_count": 211,
      "outputs": [
        {
          "output_type": "stream",
          "name": "stdout",
          "text": [
            "Paciente: Luis García | Fecha de Nacimiento:  17-09-1987 | Doctor:  Melvin Ortiz | Colegiado:  20157 | Fecha cita:  02-02-2023 | Hora cita:  12:00 | Consulta:  Medicina general | Tratamiento:  2 cucharadas de Pepto-Bismol cada hora hasta que la diarrea desaparezca\n",
            "Paciente: Karen Gómez | Fecha de Nacimiento:  08-05-2000 | Doctor:  Jorge Merida | Colegiado:  8567 | Fecha cita:  31-01-2023 | Hora cita:  09:00 | Consulta:  Medicina interna | Tratamiento:  Tylenol de 20 ml cada 4 horas\n",
            "Paciente: Gerson López | Fecha de Nacimiento:  03-10-1990 | Doctor:  Melvin Ortiz | Colegiado:  20156 | Fecha cita:  17-01-2023 | Hora cita:  11:30 | Consulta:  Medicina general | Tratamiento:  2 pildoras de acetaminofen cada 6 horas\n"
          ]
        }
      ]
    },
    {
      "cell_type": "markdown",
      "source": [
        "Eliminar el nodo del medio de la lista"
      ],
      "metadata": {
        "id": "RUrg1WkWzdCp"
      }
    },
    {
      "cell_type": "code",
      "source": [
        "lista_d.eliminar(8567,\"31-01-2023\", \"09:00\")\n",
        "lista_d.recorrer()"
      ],
      "metadata": {
        "id": "Ng67waFhzfti"
      },
      "execution_count": 227,
      "outputs": []
    },
    {
      "cell_type": "markdown",
      "source": [
        "Eliminar el nodo primero de la lista"
      ],
      "metadata": {
        "id": "_Vy30aF20HOm"
      }
    },
    {
      "cell_type": "code",
      "source": [
        "lista_d.eliminar(20156, \"02-02-2023\", \"12:00\")\n",
        "lista_d.recorrer()"
      ],
      "metadata": {
        "colab": {
          "base_uri": "https://localhost:8080/"
        },
        "id": "p4YNss6V0LIS",
        "outputId": "95078a15-e5a3-4bf8-9731-dba4aa3eb5f1"
      },
      "execution_count": 221,
      "outputs": [
        {
          "output_type": "stream",
          "name": "stdout",
          "text": [
            "Paciente: Karen Gómez | Fecha de Nacimiento:  08-05-2000 | Doctor:  Jorge Merida | Colegiado:  8567 | Fecha cita:  31-01-2023 | Hora cita:  09:00 | Consulta:  Medicina interna | Tratamiento:  Tylenol de 20 ml cada 4 horas\n",
            "Paciente: Gerson López | Fecha de Nacimiento:  03-10-1990 | Doctor:  Melvin Ortiz | Colegiado:  20156 | Fecha cita:  17-01-2023 | Hora cita:  11:30 | Consulta:  Medicina general | Tratamiento:  2 pildoras de acetaminofen cada 6 horas\n"
          ]
        }
      ]
    },
    {
      "cell_type": "markdown",
      "source": [
        "Eliminar nodo a nodo de la lista"
      ],
      "metadata": {
        "id": "OU1AXHfD6e2X"
      }
    },
    {
      "cell_type": "code",
      "source": [
        "lista_d.eliminar(20157,\"02-02-2023\",\"12:00\")\n",
        "lista_d.recorrer()"
      ],
      "metadata": {
        "colab": {
          "base_uri": "https://localhost:8080/"
        },
        "id": "qiZxIGHB8PsE",
        "outputId": "5322f3c7-59b1-49e8-a1fa-fafad58b1705"
      },
      "execution_count": 230,
      "outputs": [
        {
          "output_type": "stream",
          "name": "stdout",
          "text": [
            "Paciente: Karen Gómez | Fecha de Nacimiento:  08-05-2000 | Doctor:  Jorge Merida | Colegiado:  8567 | Fecha cita:  31-01-2023 | Hora cita:  09:00 | Consulta:  Medicina interna | Tratamiento:  Tylenol de 20 ml cada 4 horas\n",
            "Paciente: Gerson López | Fecha de Nacimiento:  03-10-1990 | Doctor:  Melvin Ortiz | Colegiado:  20156 | Fecha cita:  17-01-2023 | Hora cita:  11:30 | Consulta:  Medicina general | Tratamiento:  2 pildoras de acetaminofen cada 6 horas\n"
          ]
        }
      ]
    },
    {
      "cell_type": "code",
      "source": [
        "lista_d.eliminar( 8567,\"31-01-2023\", \"09:00\")\n",
        "lista_d.recorrer()"
      ],
      "metadata": {
        "colab": {
          "base_uri": "https://localhost:8080/"
        },
        "id": "E3OqQdkR6kWO",
        "outputId": "e8ac21ca-3c4b-43f2-f15e-854a99462a7d"
      },
      "execution_count": 231,
      "outputs": [
        {
          "output_type": "stream",
          "name": "stdout",
          "text": [
            "Paciente: Gerson López | Fecha de Nacimiento:  03-10-1990 | Doctor:  Melvin Ortiz | Colegiado:  20156 | Fecha cita:  17-01-2023 | Hora cita:  11:30 | Consulta:  Medicina general | Tratamiento:  2 pildoras de acetaminofen cada 6 horas\n"
          ]
        }
      ]
    },
    {
      "cell_type": "code",
      "source": [
        "lista_d.eliminar(20156, \"17-01-2023\", \"11:30\")\n",
        "lista_d.recorrer()"
      ],
      "metadata": {
        "id": "DOzTFCgs7ZET"
      },
      "execution_count": 232,
      "outputs": []
    },
    {
      "cell_type": "markdown",
      "source": [
        "HOJA DE TRABAJO #05"
      ],
      "metadata": {
        "id": "C85XKDVrI74v"
      }
    },
    {
      "cell_type": "code",
      "source": [
        "lista_d.modificar(\"Karen Gómez\",\"25-02-2022\")\n",
        "print()\n",
        "lista_d.recorrer()"
      ],
      "metadata": {
        "colab": {
          "base_uri": "https://localhost:8080/"
        },
        "id": "FD00oNJYJA7f",
        "outputId": "035301b8-c1d6-45fb-aadf-e0a058780a90"
      },
      "execution_count": 255,
      "outputs": [
        {
          "output_type": "stream",
          "name": "stdout",
          "text": [
            "Encontrado en la lista de pacientes\n",
            "La información del paciente ha sido actualizada.\n",
            "\n",
            "Paciente: Luis García | Fecha de Nacimiento:  17-09-1987 | Doctor:  Melvin Ortiz | Colegiado:  20157 | Fecha cita:  02-02-2023 | Hora cita:  12:00 | Consulta:  Medicina general | Tratamiento:  2 cucharadas de Pepto-Bismol cada hora hasta que la diarrea desaparezca\n",
            "Paciente: Karen Gómez | Fecha de Nacimiento:  08-05-2000 | Doctor:  Jorge Merida | Colegiado:  8567 | Fecha cita:  25-02-2022 | Hora cita:  09:00 | Consulta:  Medicina interna | Tratamiento:  Tylenol de 20 ml cada 4 horas\n",
            "Paciente: Gerson López | Fecha de Nacimiento:  03-10-1990 | Doctor:  Melvin Ortiz | Colegiado:  20156 | Fecha cita:  17-01-2023 | Hora cita:  11:30 | Consulta:  Medicina general | Tratamiento:  2 pildoras de acetaminofen cada 6 horas\n"
          ]
        }
      ]
    }
  ]
}